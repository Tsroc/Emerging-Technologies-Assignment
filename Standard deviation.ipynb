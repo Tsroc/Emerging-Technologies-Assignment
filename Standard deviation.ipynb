{
 "cells": [
  {
   "cell_type": "markdown",
   "metadata": {},
   "source": [
    "#### Task 3: Research STDEV.P and STDEV.S\n",
    "\n",
    "The standard deviation of an array of numbers x is calculated using numpy as np.sqrt(np.sum((x - np.mean(x)) ** 2)/len(x)).\n",
    "\n",
    "However, Microsoft Excel has two different versions of the standard deviation calculation, STDEV.P and STDEV.S . The STDEV.P function performs the above calculation but in the STDEV.S calculation the division is by len(x)-1 rather\n",
    "than len(x).\n",
    "\n",
    "Research these Excel functions, writing a note in a Markdown cell about the difference between them.\n",
    "\n",
    "Then use numpy to perform a simulation demonstrating that the STDEV.S calculation is a better estimate for the standard deviation of a population when performed on a sample. Note that part of this task is to figure out the terminology in the previous sentence."
   ]
  },
  {
   "cell_type": "markdown",
   "metadata": {},
   "source": [
    "### Difference between population and sample\n",
    "\n",
    "##### STDEV.P\n",
    "Standard Deviation: Population.\n",
    "- Data contains all members of the population, \n",
    "- Used if the data represents the entire population.\n",
    "- Results are accurate because the dataset is complete.\n",
    "\n",
    "\n",
    "##### STDEV.S\n",
    "Standard Deviation: Sample.\n",
    "- Data does not contain all members of the population.\n",
    "- Used if the data is just a sample, and you want to generalise to the entire population.\n",
    "- Results are not accurate because the dataset is not complete.\n",
    "\n",
    "In excel, STDEV.S uses Bessel's correction to provide a better estimation for a sample.\n",
    "\n",
    "##### Bessel's correction\n",
    "Bessel's correction refers to the \"n-1\" found in STDEV.S. The use of STDEV.P assumes a whole population of data is available, results will not be accurate when working with a sample.\n",
    "Bessel's correction adjusts the formula to have a deflated sum, more representative for a sample.[1]"
   ]
  },
  {
   "cell_type": "markdown",
   "metadata": {},
   "source": [
    "### Example"
   ]
  },
  {
   "cell_type": "code",
   "execution_count": 2,
   "metadata": {},
   "outputs": [
    {
     "name": "stdout",
     "output_type": "stream",
     "text": [
      "Size of population:  5\n",
      "\tSTDEV:P:\t\t262.922\n",
      "Size of sample:  1\n",
      "\tSTDEV.S of sample:\tnan\n",
      "\tSTDEV.S of whole:\t293.956\n",
      "\n",
      "Size of population:  10\n",
      "\tSTDEV:P:\t\t283.274\n",
      "Size of sample:  2\n",
      "\tSTDEV.S of sample:\t333.754\n",
      "\tSTDEV.S of whole:\t298.598\n",
      "\n",
      "Size of population:  100\n",
      "\tSTDEV:P:\t\t285.059\n",
      "Size of sample:  25\n",
      "\tSTDEV.S of sample:\t271.087\n",
      "\tSTDEV.S of whole:\t286.495\n",
      "\n",
      "Size of population:  500\n",
      "\tSTDEV:P:\t\t291.275\n",
      "Size of sample:  125\n",
      "\tSTDEV.S of sample:\t284.398\n",
      "\tSTDEV.S of whole:\t291.567\n",
      "\n",
      "Size of population:  1000\n",
      "\tSTDEV:P:\t\t288.412\n",
      "Size of sample:  250\n",
      "\tSTDEV.S of sample:\t293.904\n",
      "\tSTDEV.S of whole:\t288.557\n",
      "\n",
      "Size of population:  5000\n",
      "\tSTDEV:P:\t\t291.301\n",
      "Size of sample:  1250\n",
      "\tSTDEV.S of sample:\t291.013\n",
      "\tSTDEV.S of whole:\t291.331\n",
      "\n",
      "Size of population:  10000\n",
      "\tSTDEV:P:\t\t287.656\n",
      "Size of sample:  2500\n",
      "\tSTDEV.S of sample:\t282.988\n",
      "\tSTDEV.S of whole:\t287.670\n",
      "\n",
      "Size of population:  50000\n",
      "\tSTDEV:P:\t\t288.767\n",
      "Size of sample:  12500\n",
      "\tSTDEV.S of sample:\t287.083\n",
      "\tSTDEV.S of whole:\t288.770\n",
      "\n",
      "Size of population:  100000\n",
      "\tSTDEV:P:\t\t288.442\n",
      "Size of sample:  25000\n",
      "\tSTDEV.S of sample:\t289.086\n",
      "\tSTDEV.S of whole:\t288.443\n",
      "\n"
     ]
    }
   ],
   "source": [
    "import numpy as np\n",
    "import random\n",
    "\n",
    "\n",
    "size = [5,10,100,500,1000,5000,10000,50000,100000]\n",
    "\n",
    "# Creates sets with the size given in above array.\n",
    "# Prints the STDEV.P and STD.S.\n",
    "for i in size:\n",
    "    nums = np.random.randint(1,1000,(i))\n",
    "    sample = np.random.choice(nums, int(i/4))\n",
    "    \n",
    "    print(\"Size of population: \", len(nums))\n",
    "    print(\"\\tSTDEV:P:\\t\\t%.3f\" % np.std(nums))\n",
    "    print(\"Size of sample: \", len(sample))\n",
    "    print(\"\\tSTDEV.S of sample:\\t%.3f\" % np.std(sample, ddof=1))\n",
    "    print(\"\\tSTDEV.S of whole:\\t%.3f\" % np.std(nums, ddof=1))\n",
    "    print()\n"
   ]
  },
  {
   "cell_type": "markdown",
   "metadata": {},
   "source": [
    "### Conclusion"
   ]
  },
  {
   "cell_type": "markdown",
   "metadata": {},
   "source": [
    "The difference between STDEV.P and STDEV.S decreases as the size of the array increases.\n",
    "STDEV.S no longer seems to be useful as the sample size increases.[2]"
   ]
  },
  {
   "cell_type": "markdown",
   "metadata": {},
   "source": [
    "References\n",
    "\n",
    "[1] Bessel's correction: https://www.statisticshowto.com/bessels-correction/  \n",
    "[2] Standard deviation calculation: https://exceljet.net/formula/standard-deviation-calculation"
   ]
  }
 ],
 "metadata": {
  "kernelspec": {
   "display_name": "Python 3",
   "language": "python",
   "name": "python3"
  },
  "language_info": {
   "codemirror_mode": {
    "name": "ipython",
    "version": 3
   },
   "file_extension": ".py",
   "mimetype": "text/x-python",
   "name": "python",
   "nbconvert_exporter": "python",
   "pygments_lexer": "ipython3",
   "version": "3.8.3"
  }
 },
 "nbformat": 4,
 "nbformat_minor": 4
}
