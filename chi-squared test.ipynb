{
 "cells": [
  {
   "cell_type": "markdown",
   "metadata": {},
   "source": [
    "#### Task2: Chi-squared test\n",
    "\n",
    "The Chi-squared test for independence is a statistical hypothesis test like a t-test. It is used to analyse whether two categorical variables are independent. The Wikipedia article gives the table and states the Chi-squared value based on it is approximately 24.6. Use scipy.stats to verify this value and calculate the associated p value. You should include a short note with references justifying your analysis in a markdown cell.\n"
   ]
  },
  {
   "cell_type": "code",
   "execution_count": 1,
   "metadata": {},
   "outputs": [],
   "source": [
    "'''\n",
    "Creating the data.\n",
    "'''\n",
    "\n",
    "import pandas as pd\n",
    "\n",
    "data = {'A': [90,30,30],\n",
    "        'B': [60,50,40],\n",
    "        'C': [104,51,45],\n",
    "        'D': [95,20,35]\n",
    "       }\n",
    "pf = pd.DataFrame(data, columns=['A', 'B', 'C', 'D'], index=['White collar', 'Blue collar', 'No collar'])"
   ]
  },
  {
   "cell_type": "markdown",
   "metadata": {},
   "source": [
    "Data output."
   ]
  },
  {
   "cell_type": "code",
   "execution_count": 2,
   "metadata": {},
   "outputs": [
    {
     "name": "stdout",
     "output_type": "stream",
     "text": [
      "                A    B    C    D  total\n",
      "White collar   90   60  104   95    349\n",
      "Blue collar    30   50   51   20    151\n",
      "No collar      30   40   45   35    150\n",
      "Total         150  150  200  150    650\n"
     ]
    }
   ],
   "source": [
    "pf2 = pf.copy()\n",
    "\n",
    "#Adding totals\n",
    "\n",
    "pf2.loc['Total']= pf2.sum(numeric_only=True, axis=0)\n",
    "pf2.loc[:,'total'] = pf2.sum(numeric_only=True, axis=1)\n",
    "\n",
    "print(pf2)"
   ]
  },
  {
   "cell_type": "markdown",
   "metadata": {},
   "source": [
    "#### Explaination of code.\n",
    "\n",
    "chi2_contingency is imported from the scipy.stats module, it performs a chi-squared test on a data set.\n",
    "The following variables are returned.\n",
    "\n",
    "- **chi2:** This is the Chi-squared value which is expected to be approximately 24.6\n",
    "- **p:** P-value is the probability of obtaining test results at least as extreme as the results actually observed. Our confidence in the result.\n",
    "- **dof:** Degrees of freedom, which is the freedom for the results to vary.\n",
    "- **expected:** The expected frequencies, based on the marginal sums of the table.\n",
    "\n",
    "Expected results = each cell is assigned a value based on column total*(row_total/total).  \n",
    "Chi2 = For each cell you get the sum of (pow2(observed-expected)/ expected) for each cell.  \n",
    "DoF = (num_rows - 1)*(num_Col).  \n",
    "P-value calculator can be found here [5].\n"
   ]
  },
  {
   "cell_type": "code",
   "execution_count": 3,
   "metadata": {},
   "outputs": [
    {
     "name": "stdout",
     "output_type": "stream",
     "text": [
      "chi2 statistic:     24.571\n",
      "p-value:            0.00040984\n",
      "degrees of freedom: 6\n",
      "expected frequencies:\n",
      "[[ 80.53846154  80.53846154 107.38461538  80.53846154]\n",
      " [ 34.84615385  34.84615385  46.46153846  34.84615385]\n",
      " [ 34.61538462  34.61538462  46.15384615  34.61538462]]\n"
     ]
    }
   ],
   "source": [
    "'''\n",
    "Using scipy.stats.chi2_contingency to confirm the results.\n",
    "'''\n",
    "\n",
    "from scipy.stats import chi2_contingency\n",
    "\n",
    "chi2, p, dof, expected = chi2_contingency(pf)\n",
    "\n",
    "print(f\"chi2 statistic:     {chi2:.5g}\")\n",
    "print(f\"p-value:            {p:.5g}\")\n",
    "print(f\"degrees of freedom: {dof}\")\n",
    "print(\"expected frequencies:\")\n",
    "print(expected)"
   ]
  },
  {
   "cell_type": "markdown",
   "metadata": {},
   "source": [
    "#### Tests"
   ]
  },
  {
   "cell_type": "code",
   "execution_count": 4,
   "metadata": {},
   "outputs": [
    {
     "name": "stdout",
     "output_type": "stream",
     "text": [
      "Expected Chi-squared: 24.6\n",
      "Actual Chi-squared: 24.6\n",
      "Match found: True\n"
     ]
    }
   ],
   "source": [
    "'''\n",
    "Confirm the results by rounding to 1 decimal.\n",
    "I am unsure of a better way to confirm the closeness of the expected and actual results.\n",
    "'''\n",
    "import math\n",
    "\n",
    "expectedChi2=24.6\n",
    "\n",
    "# Results\n",
    "print(f\"Expected Chi-squared: {expectedChi2}\\nActual Chi-squared: {round(chi2, 1)}\")\n",
    "print(f\"Match found: {math.isclose(expectedChi2, round(chi2, 1))}\")"
   ]
  },
  {
   "cell_type": "markdown",
   "metadata": {},
   "source": [
    "References:  \n",
    "[1] Information on how chi2_contingency works:\n",
    "https://docs.scipy.org/doc/scipy/reference/generated/scipy.stats.chi2_contingency.html  \n",
    "[2] Chi2_contingency implementation:\n",
    "https://stackoverflow.com/questions/64669448/understanding-scipy-stats-chisquare  \n",
    "[3] Chi-squared test:\n",
    "https://en.wikipedia.org/w/index.php?title=Chi-squared_test&oldid=983024096  \n",
    "[4] p-value:\n",
    "https://en.wikipedia.org/wiki/P-value  \n",
    "[5] Calculating p-value:  https://www.gigacalculator.com/calculators/chi-square-to-p-value-calculator.php  "
   ]
  }
 ],
 "metadata": {
  "kernelspec": {
   "display_name": "Python 3",
   "language": "python",
   "name": "python3"
  },
  "language_info": {
   "codemirror_mode": {
    "name": "ipython",
    "version": 3
   },
   "file_extension": ".py",
   "mimetype": "text/x-python",
   "name": "python",
   "nbconvert_exporter": "python",
   "pygments_lexer": "ipython3",
   "version": "3.8.3"
  }
 },
 "nbformat": 4,
 "nbformat_minor": 4
}
