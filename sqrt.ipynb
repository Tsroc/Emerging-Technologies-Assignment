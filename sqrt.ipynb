{
 "cells": [
  {
   "cell_type": "markdown",
   "metadata": {},
   "source": [
    "# Tasks\n",
    "\n",
    "These are my solutions to the Tasks assignment. The author is Eoin Wilkie."
   ]
  },
  {
   "cell_type": "markdown",
   "metadata": {},
   "source": [
    "Write a Python function called sqrt2 that calculates and\n",
    "prints to the screen the square root of 2 to 100 decimal places. Your code should\n",
    "not depend on any module from the standard library or otherwise. You should\n",
    "research the task first and include references and a description of your algorithm."
   ]
  },
  {
   "cell_type": "markdown",
   "metadata": {},
   "source": [
    "#### Task: Calculate a square root\n",
    "[1] Finding square roots of of numbers that aren't perfect squares without a calculator: http://www.math.com/school/subject1/lessons/S1U1L9DP.html\n"
   ]
  },
  {
   "cell_type": "code",
   "execution_count": 19,
   "metadata": {},
   "outputs": [],
   "source": [
    "def sqrt(x):\n",
    "    \"\"\"\n",
    "    A function to calculate the square root of a number x.\n",
    "    This is Ian's example.\n",
    "    \"\"\"\n",
    "    # initial guess for the aquare root z.\n",
    "    z = x / 2\n",
    "    # Loop until we're happy with the accuracy.\n",
    "    while abs(x - (z*z)) > 0.0000000000001:\n",
    "        # Calculate a better guess for the square root.\n",
    "        z -= (z*z - x) / (z * z)\n",
    "    # Return the (approximate) square root of x.\n",
    "    return z\n",
    "    "
   ]
  },
  {
   "cell_type": "code",
   "execution_count": 2,
   "metadata": {},
   "outputs": [],
   "source": [
    "def sqrt2(number, precision):\n",
    "    \"\"\"\n",
    "    https://www.careercup.com/question?id=20702662\n",
    "    This function operates similarly to sqrt() except the precision is passed as an argument.\n",
    "    \"\"\"\n",
    "    \n",
    "    root = number / 2\n",
    "    \n",
    "    # Do not divide a number smaller than this. \n",
    "    if abs(root * root - number) <= precision:\n",
    "        return root\n",
    "\n",
    "    while abs(root * root - number) > precision:\n",
    "        root = root - (root * root - number)/(2*root)\n",
    "        # print(root)\n",
    "        \n",
    "    return root   \n",
    "    \n",
    "    \n",
    "    \n",
    "    "
   ]
  },
  {
   "cell_type": "code",
   "execution_count": 44,
   "metadata": {},
   "outputs": [],
   "source": [
    "def func(root, number):\n",
    "    return root * root - number"
   ]
  },
  {
   "cell_type": "code",
   "execution_count": 45,
   "metadata": {},
   "outputs": [],
   "source": [
    "def derivFunc(root):\n",
    "    return 2 * root"
   ]
  },
  {
   "cell_type": "code",
   "execution_count": 68,
   "metadata": {
    "scrolled": false
   },
   "outputs": [],
   "source": [
    "def sqrt3(number):\n",
    "    \"\"\"\n",
    "    https://www.geeksforgeeks.org/program-for-newton-raphson-method/\n",
    "    https://en.wikipedia.org/wiki/Newton's_method\n",
    "    http://www.math.pitt.edu/~sussmanm/2070/lab_04/index.html\n",
    "    \"\"\"\n",
    "    \n",
    "    iterations = 7\n",
    "    precision = 0.00000001\n",
    "    root = number / 2\n",
    "    \n",
    "    for i in range(iterations):\n",
    "        # Result is not within the desired precision.\n",
    "        if abs(root) <= precision:\n",
    "            return root\n",
    "\n",
    "        # Newton's computation, and update value to repeat process.\n",
    "        root -= func(root, number) / derivFunc(root)\n",
    "        \n",
    "        # Testing purposes. \n",
    "        print(root)\n",
    "   \n",
    "    return root"
   ]
  },
  {
   "cell_type": "code",
   "execution_count": 69,
   "metadata": {},
   "outputs": [
    {
     "name": "stdout",
     "output_type": "stream",
     "text": [
      "1.4142135623730798\n",
      "1.4142135623730951\n",
      "start\n",
      "1.5\n",
      "1.4166666666666667\n",
      "1.4142156862745099\n",
      "1.4142135623746899\n",
      "1.4142135623730951\n",
      "1.414213562373095\n",
      "1.4142135623730951\n",
      "1.4142135623730951\n",
      "end\n"
     ]
    }
   ],
   "source": [
    "print(sqrt(2))\n",
    "print(sqrt2(2, 0.0000000000001))\n",
    "print(\"start\")\n",
    "print(sqrt3(2))\n",
    "print(\"end\")"
   ]
  },
  {
   "cell_type": "code",
   "execution_count": null,
   "metadata": {},
   "outputs": [],
   "source": []
  },
  {
   "cell_type": "markdown",
   "metadata": {},
   "source": [
    "#### Tests of the function\n",
    "Here we test the function with some known values."
   ]
  },
  {
   "cell_type": "code",
   "execution_count": null,
   "metadata": {},
   "outputs": [],
   "source": []
  }
 ],
 "metadata": {
  "kernelspec": {
   "display_name": "Python 3",
   "language": "python",
   "name": "python3"
  },
  "language_info": {
   "codemirror_mode": {
    "name": "ipython",
    "version": 3
   },
   "file_extension": ".py",
   "mimetype": "text/x-python",
   "name": "python",
   "nbconvert_exporter": "python",
   "pygments_lexer": "ipython3",
   "version": "3.8.3"
  }
 },
 "nbformat": 4,
 "nbformat_minor": 4
}
