{
 "cells": [
  {
   "cell_type": "markdown",
   "metadata": {},
   "source": [
    "# Tasks\n",
    "\n",
    "Author: Eoin Wilkie."
   ]
  },
  {
   "cell_type": "markdown",
   "metadata": {},
   "source": [
    "#### Task: Calculate a square root\n",
    "Write a Python function called sqrt2 that calculates and prints to the screen the square root of 2 to 100 decimal places. Your code should not depend on any module from the standard library or otherwise. You should research the task first and include references and a description of your algorithm."
   ]
  },
  {
   "cell_type": "code",
   "execution_count": 1,
   "metadata": {},
   "outputs": [],
   "source": [
    "def sqrt(x):\n",
    "    \"\"\"\n",
    "    A function to calculate the square root of a number x.\n",
    "    This is Ian's example.\n",
    "    \"\"\"\n",
    "    # initial guess for the aquare root z.\n",
    "    z = x / 2\n",
    "    # Loop until we're happy with the accuracy.\n",
    "    while abs(x - (z*z)) > 0.0000000000001:\n",
    "        # Calculate a better guess for the square root.\n",
    "        z -= (z*z - x) / (z * z)\n",
    "    # Return the (approximate) square root of x.\n",
    "    return z\n",
    "    "
   ]
  },
  {
   "cell_type": "markdown",
   "metadata": {},
   "source": [
    "##### Explaination of code.  \n",
    "\n",
    "My implementation is based on Newton's method. Each iteration produces an approximation and successive results become more precise.  \n",
    "The method takes a number input and determines the root by dividing the number in half.  \n",
    "Afterwards the method enters a loop which repeats 7 times, the assigned number of iterations.  \n",
    "The root value is re-assigned to *root -= func(root, number) / derivFunc(root)*.  \n",
    "Below, the value of root is shown after each iteration. The final iteration is the result.\n",
    "\n",
    "- Iteration 1: 1.5\n",
    "- Iteration 2: 1.4166666666666667\n",
    "- Iteration 3: 1.4142156862745099\n",
    "- Iteration 4: 1.4142135623746899\n",
    "- Iteration 5: 1.4142135623730951\n",
    "- Iteration 6: 1.414213562373095\n",
    "- Iteration 7: 1.4142135623730951"
   ]
  },
  {
   "cell_type": "code",
   "execution_count": 2,
   "metadata": {},
   "outputs": [],
   "source": [
    "def func(root, number):\n",
    "    return root * root - number"
   ]
  },
  {
   "cell_type": "code",
   "execution_count": 3,
   "metadata": {},
   "outputs": [],
   "source": [
    "def derivFunc(root):\n",
    "    return 2 * root"
   ]
  },
  {
   "cell_type": "code",
   "execution_count": 4,
   "metadata": {
    "scrolled": false
   },
   "outputs": [],
   "source": [
    "def sqrt2(number):\n",
    "    \"\"\"\n",
    "    My code is based on Newton's method. \n",
    "    \"\"\"\n",
    "    \n",
    "    iterations = 7\n",
    "    precision = 0.00000001\n",
    "    root = number / 2\n",
    "    \n",
    "    for i in range(iterations):\n",
    "        # Result is not within the desired precision.\n",
    "        if abs(root) <= precision:\n",
    "            return root\n",
    "\n",
    "        # Newton's computation, and update value to repeat process.\n",
    "        root -= func(root, number) / derivFunc(root)\n",
    "        \n",
    "        # Testing purposes. \n",
    "        print(f\"Iteration {i+1}: {root}\")\n",
    "   \n",
    "    return root"
   ]
  },
  {
   "cell_type": "markdown",
   "metadata": {},
   "source": [
    "#### Tests"
   ]
  },
  {
   "cell_type": "code",
   "execution_count": 5,
   "metadata": {},
   "outputs": [
    {
     "name": "stdout",
     "output_type": "stream",
     "text": [
      "This code was provided in class, it will be used to compare results.\n",
      "sqrt(2): 1.4142135623730798\n",
      "\n",
      "My implementation:\n",
      "start\n",
      "Iteration 1: 1.5\n",
      "Iteration 2: 1.4166666666666667\n",
      "Iteration 3: 1.4142156862745099\n",
      "Iteration 4: 1.4142135623746899\n",
      "Iteration 5: 1.4142135623730951\n",
      "Iteration 6: 1.414213562373095\n",
      "Iteration 7: 1.4142135623730951\n",
      "1.4142135623730951\n",
      "end\n"
     ]
    }
   ],
   "source": [
    "print(\"This code was provided in class, it will be used to compare results.\")\n",
    "print(f\"sqrt(2): {sqrt(2)}\")\n",
    "print()\n",
    "print(\"My implementation:\")\n",
    "print(\"start\")\n",
    "print(sqrt2(2))\n",
    "print(\"end\")"
   ]
  },
  {
   "cell_type": "markdown",
   "metadata": {},
   "source": [
    "References:  \n",
    "[1] Finding square roots of of numbers that aren't perfect squares without a calculator:\n",
    "http://www.math.com/school/subject1/lessons/S1U1L9DP.html  \n",
    "[2] Newton's method https://en.wikipedia.org/wiki/Newton's_method  \n",
    "[3] An implementation of Newton's method:  \n",
    "https://www.geeksforgeeks.org/program-for-newton-raphson-method/  \n",
    "[4] Additional information on how NEwton's method works:  \n",
    "http://www.math.pitt.edu/~sussmanm/2070/lab_04/index.html"
   ]
  },
  {
   "cell_type": "code",
   "execution_count": null,
   "metadata": {},
   "outputs": [],
   "source": []
  }
 ],
 "metadata": {
  "kernelspec": {
   "display_name": "Python 3",
   "language": "python",
   "name": "python3"
  },
  "language_info": {
   "codemirror_mode": {
    "name": "ipython",
    "version": 3
   },
   "file_extension": ".py",
   "mimetype": "text/x-python",
   "name": "python",
   "nbconvert_exporter": "python",
   "pygments_lexer": "ipython3",
   "version": "3.8.3"
  }
 },
 "nbformat": 4,
 "nbformat_minor": 4
}
