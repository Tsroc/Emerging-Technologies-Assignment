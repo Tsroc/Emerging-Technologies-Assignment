{
 "cells": [
  {
   "cell_type": "markdown",
   "metadata": {},
   "source": [
    "# Tasks\n",
    "\n",
    "Author: Eoin Wilkie."
   ]
  },
  {
   "cell_type": "markdown",
   "metadata": {},
   "source": [
    "## Task 1: Calculate a square root\n",
    "Write a Python function called sqrt2 that calculates and prints to the screen the square root of 2 to 100 decimal places. Your code should not depend on any module from the standard library or otherwise. You should research the task first and include references and a description of your algorithm."
   ]
  },
  {
   "cell_type": "code",
   "execution_count": 1,
   "metadata": {},
   "outputs": [],
   "source": [
    "def sqrt(x):\n",
    "    \"\"\"\n",
    "    A function to calculate the square root of a number x.\n",
    "    This is Ian's example.\n",
    "    \"\"\"\n",
    "    # initial guess for the aquare root z.\n",
    "    z = x / 2\n",
    "    # Loop until we're happy with the accuracy.\n",
    "    while abs(x - (z*z)) > 0.0000000000001:\n",
    "        # Calculate a better guess for the square root.\n",
    "        z -= (z*z - x) / (z * z)\n",
    "    # Return the (approximate) square root of x.\n",
    "    return z\n",
    "    "
   ]
  },
  {
   "cell_type": "markdown",
   "metadata": {},
   "source": [
    "##### Explaination of code.  \n",
    "\n",
    "My implementation is based on Newton's method. Each iteration produces an approximation and successive results become more precise.  \n",
    "The method takes a number input and determines the root by dividing the number in half.  \n",
    "Afterwards the method enters a loop which repeats 7 times, the assigned number of iterations.  \n",
    "The root value is re-assigned to *root -= func(root, number) / derivFunc(root)*.  \n",
    "Below, the value of root is shown after each iteration. The final iteration is the result.\n",
    "\n",
    "- Iteration 1: 1.5\n",
    "- Iteration 2: 1.4166666666666667\n",
    "- Iteration 3: 1.4142156862745099\n",
    "- Iteration 4: 1.4142135623746899\n",
    "- Iteration 5: 1.4142135623730951\n",
    "- Iteration 6: 1.414213562373095\n",
    "- Iteration 7: 1.4142135623730951"
   ]
  },
  {
   "cell_type": "code",
   "execution_count": 2,
   "metadata": {},
   "outputs": [],
   "source": [
    "def func(root, number):\n",
    "    return root * root - number"
   ]
  },
  {
   "cell_type": "code",
   "execution_count": 3,
   "metadata": {},
   "outputs": [],
   "source": [
    "def derivFunc(root):\n",
    "    return 2 * root"
   ]
  },
  {
   "cell_type": "code",
   "execution_count": 4,
   "metadata": {
    "scrolled": false
   },
   "outputs": [],
   "source": [
    "def sqrt2(number):\n",
    "    \"\"\"\n",
    "    My code is based on Newton's method. \n",
    "    \"\"\"\n",
    "    \n",
    "    iterations = 7\n",
    "    precision = 0.00000001\n",
    "    root = number / 2\n",
    "    \n",
    "    for i in range(iterations):\n",
    "        # Result is not within the desired precision.\n",
    "        if abs(root) <= precision:\n",
    "            return root\n",
    "\n",
    "        # Newton's computation, and update value to repeat process.\n",
    "        root -= func(root, number) / derivFunc(root)\n",
    "        \n",
    "        # Testing purposes. \n",
    "        print(f\"Iteration {i+1}: {root}\")\n",
    "   \n",
    "    return root"
   ]
  },
  {
   "cell_type": "markdown",
   "metadata": {},
   "source": [
    "#### Testing sqrt"
   ]
  },
  {
   "cell_type": "code",
   "execution_count": 5,
   "metadata": {},
   "outputs": [],
   "source": [
    "print(\"This code was provided in class, it will be used to compare results.\")\n",
    "print(f\"sqrt(2): {sqrt(2)}\")\n",
    "print()\n",
    "print(\"My implementation:\")\n",
    "print(\"start\")\n",
    "print(sqrt2(2))\n",
    "print(\"end\")"
   ]
  },
  {
   "cell_type": "markdown",
   "metadata": {},
   "source": [
    "## Task2: Chi-squared test\n",
    "\n",
    "The Chi-squared test for independence is a statistical hypothesis test like a t-test. It is used to analyse whether two categorical variables are independent. The Wikipedia article gives the table and states the Chi-squared value based on it is approximately 24.6. Use scipy.stats to verify this value and calculate the associated p value. You should include a short note with references justifying your analysis in a markdown cell.\n"
   ]
  },
  {
   "cell_type": "code",
   "execution_count": 6,
   "metadata": {},
   "outputs": [],
   "source": [
    "'''\n",
    "Creating the data.\n",
    "'''\n",
    "\n",
    "import pandas as pd\n",
    "\n",
    "data = {'A': [90,30,30],\n",
    "        'B': [60,50,40],\n",
    "        'C': [104,51,45],\n",
    "        'D': [95,20,35]\n",
    "       }\n",
    "pf = pd.DataFrame(data, columns=['A', 'B', 'C', 'D'], index=['White collar', 'Blue collar', 'No collar'])"
   ]
  },
  {
   "cell_type": "markdown",
   "metadata": {},
   "source": [
    "Data output."
   ]
  },
  {
   "cell_type": "code",
   "execution_count": 7,
   "metadata": {},
   "outputs": [
    {
     "name": "stdout",
     "output_type": "stream",
     "text": [
      "                A    B    C    D  total\n",
      "White collar   90   60  104   95    349\n",
      "Blue collar    30   50   51   20    151\n",
      "No collar      30   40   45   35    150\n",
      "Total         150  150  200  150    650\n"
     ]
    }
   ],
   "source": [
    "pf2 = pf.copy()\n",
    "\n",
    "#Adding totals\n",
    "\n",
    "pf2.loc['Total']= pf2.sum(numeric_only=True, axis=0)\n",
    "pf2.loc[:,'total'] = pf2.sum(numeric_only=True, axis=1)\n",
    "\n",
    "print(pf2)"
   ]
  },
  {
   "cell_type": "markdown",
   "metadata": {},
   "source": [
    "#### Explaination of code.\n",
    "\n",
    "chi2_contingency is imported from the scipy.stats module, it performs a chi-squared test on a data set.\n",
    "The following variables are returned.\n",
    "\n",
    "- **chi2:** This is the Chi-squared value which is expected to be approximately 24.6\n",
    "- **p:** P-value is the probability of obtaining test results at least as extreme as the results actually observed. Our confidence in the result.\n",
    "- **dof:** Degrees of freedom, which is the freedom for the results to vary.\n",
    "- **expected:** The expected frequencies, based on the marginal sums of the table.\n",
    "\n",
    "Expected results = each cell is assigned a value based on column total*(row_total/total).  \n",
    "Chi2 = For each cell you get the sum of (pow2(observed-expected)/ expected) for each cell.  \n",
    "DoF = (num_rows - 1)*(num_Col).  \n",
    "P-value calculator can be found here [9].\n"
   ]
  },
  {
   "cell_type": "code",
   "execution_count": 8,
   "metadata": {},
   "outputs": [
    {
     "name": "stdout",
     "output_type": "stream",
     "text": [
      "chi2 statistic:     24.571\n",
      "p-value:            0.00040984\n",
      "degrees of freedom: 6\n",
      "expected frequencies:\n",
      "[[ 80.53846154  80.53846154 107.38461538  80.53846154]\n",
      " [ 34.84615385  34.84615385  46.46153846  34.84615385]\n",
      " [ 34.61538462  34.61538462  46.15384615  34.61538462]]\n"
     ]
    }
   ],
   "source": [
    "'''\n",
    "Using scipy.stats.chi2_contingency to confirm the results.\n",
    "'''\n",
    "\n",
    "from scipy.stats import chi2_contingency\n",
    "\n",
    "chi2, p, dof, expected = chi2_contingency(pf)\n",
    "\n",
    "print(f\"chi2 statistic:     {chi2:.5g}\")\n",
    "print(f\"p-value:            {p:.5g}\")\n",
    "print(f\"degrees of freedom: {dof}\")\n",
    "print(\"expected frequencies:\")\n",
    "print(expected)"
   ]
  },
  {
   "cell_type": "markdown",
   "metadata": {},
   "source": [
    "#### Testing chi-squared"
   ]
  },
  {
   "cell_type": "code",
   "execution_count": 9,
   "metadata": {},
   "outputs": [
    {
     "name": "stdout",
     "output_type": "stream",
     "text": [
      "Expected Chi-squared: 24.6\n",
      "Actual Chi-squared: 24.6\n",
      "Match found: True\n"
     ]
    }
   ],
   "source": [
    "'''\n",
    "Confirm the results by rounding to 1 decimal.\n",
    "I am unsure of a better way to confirm the closeness of the expected and actual results.\n",
    "'''\n",
    "import math\n",
    "\n",
    "expectedChi2=24.6\n",
    "\n",
    "# Results\n",
    "print(f\"Expected Chi-squared: {expectedChi2}\\nActual Chi-squared: {round(chi2, 1)}\")\n",
    "print(f\"Match found: {math.isclose(expectedChi2, round(chi2, 1))}\")"
   ]
  },
  {
   "cell_type": "markdown",
   "metadata": {},
   "source": [
    "## Task 3: Research STDEV.P and STDEV.S\n",
    "\n",
    "The standard deviation of an array of numbers x is calculated using numpy as np.sqrt(np.sum((x - np.mean(x)) ** 2)/len(x)).\n",
    "\n",
    "However, Microsoft Excel has two different versions of the standard deviation calculation, STDEV.P and STDEV.S . The STDEV.P function performs the above calculation but in the STDEV.S calculation the division is by len(x)-1 rather\n",
    "than len(x).\n",
    "\n",
    "Research these Excel functions, writing a note in a Markdown cell about the difference between them.\n",
    "\n",
    "Then use numpy to perform a simulation demonstrating that the STDEV.S calculation is a better estimate for the standard deviation of a population when performed on a sample. Note that part of this task is to figure out the terminology in the previous sentence."
   ]
  },
  {
   "cell_type": "markdown",
   "metadata": {},
   "source": [
    "### Difference between population and sample\n",
    "\n",
    "##### STDEV.P\n",
    "Standard Deviation: Population.\n",
    "- Data contains all members of the population, \n",
    "- Used if the data represents the entire population.\n",
    "- Results are accurate because the dataset is complete.\n",
    "\n",
    "\n",
    "##### STDEV.S\n",
    "Standard Deviation: Sample.\n",
    "- Data does not contain all members of the population.\n",
    "- Used if the data is just a sample, and you want to generalise to the entire population.\n",
    "- Results are not accurate because the dataset is not complete.\n",
    "\n",
    "In excel, STDEV.S uses Bessel's correction to provide a better estimation for a sample.\n",
    "\n",
    "##### Bessel's correction\n",
    "Bessel's correction refers to the \"n-1\" found in STDEV.S. The use of STDEV.P assumes a whole population of data is available, results will not be accurate when working with a sample.\n",
    "Bessel's correction adjusts the formula to have a deflated sum, more representative for a sample.[10]"
   ]
  },
  {
   "cell_type": "markdown",
   "metadata": {},
   "source": [
    "#### Example"
   ]
  },
  {
   "cell_type": "code",
   "execution_count": 21,
   "metadata": {},
   "outputs": [
    {
     "name": "stdout",
     "output_type": "stream",
     "text": [
      "Size of population:  5\n",
      "\tSTDEV:P:\t\t116.440\n",
      "Size of sample:  1\n",
      "\tSTDEV.S of sample:\tnan\n",
      "\tSTDEV.S of whole:\t130.184\n",
      "\n",
      "Size of population:  10\n",
      "\tSTDEV:P:\t\t308.982\n",
      "Size of sample:  2\n",
      "\tSTDEV.S of sample:\t506.288\n",
      "\tSTDEV.S of whole:\t325.696\n",
      "\n",
      "Size of population:  100\n",
      "\tSTDEV:P:\t\t271.497\n",
      "Size of sample:  25\n",
      "\tSTDEV.S of sample:\t273.062\n",
      "\tSTDEV.S of whole:\t272.865\n",
      "\n",
      "Size of population:  500\n",
      "\tSTDEV:P:\t\t304.479\n",
      "Size of sample:  125\n",
      "\tSTDEV.S of sample:\t312.415\n",
      "\tSTDEV.S of whole:\t304.784\n",
      "\n",
      "Size of population:  1000\n",
      "\tSTDEV:P:\t\t289.915\n",
      "Size of sample:  250\n",
      "\tSTDEV.S of sample:\t285.678\n",
      "\tSTDEV.S of whole:\t290.060\n",
      "\n",
      "Size of population:  5000\n",
      "\tSTDEV:P:\t\t286.722\n",
      "Size of sample:  1250\n",
      "\tSTDEV.S of sample:\t283.903\n",
      "\tSTDEV.S of whole:\t286.751\n",
      "\n",
      "Size of population:  10000\n",
      "\tSTDEV:P:\t\t289.055\n",
      "Size of sample:  2500\n",
      "\tSTDEV.S of sample:\t286.618\n",
      "\tSTDEV.S of whole:\t289.069\n",
      "\n",
      "Size of population:  50000\n",
      "\tSTDEV:P:\t\t288.546\n",
      "Size of sample:  12500\n",
      "\tSTDEV.S of sample:\t287.605\n",
      "\tSTDEV.S of whole:\t288.549\n",
      "\n",
      "Size of population:  100000\n",
      "\tSTDEV:P:\t\t288.592\n",
      "Size of sample:  25000\n",
      "\tSTDEV.S of sample:\t288.744\n",
      "\tSTDEV.S of whole:\t288.593\n",
      "\n"
     ]
    }
   ],
   "source": [
    "import numpy as np\n",
    "import random\n",
    "\n",
    "\n",
    "size = [5,10,100,500,1000,5000,10000, 50000, 100000]\n",
    "\n",
    "# Creates sets with the size given in above array.\n",
    "# Prints the STDEV.P and STD.S.\n",
    "for i in size:\n",
    "    if i != 0:\n",
    "        nums = np.random.randint(1,1000,(i))\n",
    "        sample = np.random.choice(nums, int(i/4))\n",
    "    \n",
    "    print(\"Size of population: \", len(nums))\n",
    "    print(\"\\tSTDEV:P:\\t\\t%.3f\" % np.std(nums))\n",
    "    print(\"Size of sample: \", len(sample))\n",
    "    print(\"\\tSTDEV.S of sample:\\t%.3f\" % np.std(sample, ddof=1))\n",
    "    print(\"\\tSTDEV.S of whole:\\t%.3f\" % np.std(nums, ddof=1))\n",
    "    print()\n"
   ]
  },
  {
   "cell_type": "markdown",
   "metadata": {},
   "source": [
    "#### Conclusion"
   ]
  },
  {
   "cell_type": "markdown",
   "metadata": {},
   "source": [
    "The difference between STDEV.P and STDEV.S decreases as the size of the array increases.\n",
    "STDEV.S no longer seems to be useful as the sample size increases.[11]"
   ]
  },
  {
   "cell_type": "markdown",
   "metadata": {},
   "source": [
    "## Task 4: Machine Learning\n",
    "\n",
    "Use scikit-learn to apply k-means clustering to Fisher’s famous Iris data set. \n",
    "\n",
    "Explain in a Markdown cell how your code works and how accurate it might\n",
    "be, and then explain how your model could be used to make predictions of species of iris."
   ]
  },
  {
   "cell_type": "markdown",
   "metadata": {},
   "source": [
    "#### Loading the data.\n",
    "The data is loaded from sklearn.datasets[12]"
   ]
  },
  {
   "cell_type": "code",
   "execution_count": 11,
   "metadata": {},
   "outputs": [],
   "source": [
    "# Loading the data from the dataset.\n",
    "from sklearn.datasets import load_iris\n",
    "\n",
    "iris = load_iris()\n",
    "X = iris.data\n",
    "y = iris.target"
   ]
  },
  {
   "cell_type": "markdown",
   "metadata": {},
   "source": [
    "Iris dataset information."
   ]
  },
  {
   "cell_type": "code",
   "execution_count": 12,
   "metadata": {},
   "outputs": [
    {
     "name": "stdout",
     "output_type": "stream",
     "text": [
      "Shape\n",
      "Data: (150, 4)\n",
      "Target: (150,)\n",
      "Target names: ['setosa' 'versicolor' 'virginica']\n",
      "[0 0 0 0 0 0 0 0 0 0 0 0 0 0 0 0 0 0 0 0 0 0 0 0 0 0 0 0 0 0 0 0 0 0 0 0 0\n",
      " 0 0 0 0 0 0 0 0 0 0 0 0 0 1 1 1 1 1 1 1 1 1 1 1 1 1 1 1 1 1 1 1 1 1 1 1 1\n",
      " 1 1 1 1 1 1 1 1 1 1 1 1 1 1 1 1 1 1 1 1 1 1 1 1 1 1 2 2 2 2 2 2 2 2 2 2 2\n",
      " 2 2 2 2 2 2 2 2 2 2 2 2 2 2 2 2 2 2 2 2 2 2 2 2 2 2 2 2 2 2 2 2 2 2 2 2 2\n",
      " 2 2]\n"
     ]
    }
   ],
   "source": [
    "print(\"Shape\")\n",
    "print(\"Data:\", X.shape)\n",
    "print(\"Target:\", y.shape)\n",
    "print(\"Target names:\", iris.target_names)\n",
    "\n",
    "print(y)"
   ]
  },
  {
   "cell_type": "code",
   "execution_count": 13,
   "metadata": {},
   "outputs": [
    {
     "name": "stdout",
     "output_type": "stream",
     "text": [
      "[[5.1 3.5 1.4 0.2]\n",
      " [4.9 3.  1.4 0.2]\n",
      " [4.7 3.2 1.3 0.2]\n",
      " [4.6 3.1 1.5 0.2]\n",
      " [5.  3.6 1.4 0.2]\n",
      " [5.4 3.9 1.7 0.4]\n",
      " [4.6 3.4 1.4 0.3]\n",
      " [5.  3.4 1.5 0.2]\n",
      " [4.4 2.9 1.4 0.2]\n",
      " [4.9 3.1 1.5 0.1]\n",
      " [5.4 3.7 1.5 0.2]\n",
      " [4.8 3.4 1.6 0.2]\n",
      " [4.8 3.  1.4 0.1]\n",
      " [4.3 3.  1.1 0.1]\n",
      " [5.8 4.  1.2 0.2]\n",
      " [5.7 4.4 1.5 0.4]\n",
      " [5.4 3.9 1.3 0.4]\n",
      " [5.1 3.5 1.4 0.3]\n",
      " [5.7 3.8 1.7 0.3]\n",
      " [5.1 3.8 1.5 0.3]\n",
      " [5.4 3.4 1.7 0.2]\n",
      " [5.1 3.7 1.5 0.4]\n",
      " [4.6 3.6 1.  0.2]\n",
      " [5.1 3.3 1.7 0.5]\n",
      " [4.8 3.4 1.9 0.2]\n",
      " [5.  3.  1.6 0.2]\n",
      " [5.  3.4 1.6 0.4]\n",
      " [5.2 3.5 1.5 0.2]\n",
      " [5.2 3.4 1.4 0.2]\n",
      " [4.7 3.2 1.6 0.2]\n",
      " [4.8 3.1 1.6 0.2]\n",
      " [5.4 3.4 1.5 0.4]\n",
      " [5.2 4.1 1.5 0.1]\n",
      " [5.5 4.2 1.4 0.2]\n",
      " [4.9 3.1 1.5 0.2]\n",
      " [5.  3.2 1.2 0.2]\n",
      " [5.5 3.5 1.3 0.2]\n",
      " [4.9 3.6 1.4 0.1]\n",
      " [4.4 3.  1.3 0.2]\n",
      " [5.1 3.4 1.5 0.2]\n",
      " [5.  3.5 1.3 0.3]\n",
      " [4.5 2.3 1.3 0.3]\n",
      " [4.4 3.2 1.3 0.2]\n",
      " [5.  3.5 1.6 0.6]\n",
      " [5.1 3.8 1.9 0.4]\n",
      " [4.8 3.  1.4 0.3]\n",
      " [5.1 3.8 1.6 0.2]\n",
      " [4.6 3.2 1.4 0.2]\n",
      " [5.3 3.7 1.5 0.2]\n",
      " [5.  3.3 1.4 0.2]\n",
      " [7.  3.2 4.7 1.4]\n",
      " [6.4 3.2 4.5 1.5]\n",
      " [6.9 3.1 4.9 1.5]\n",
      " [5.5 2.3 4.  1.3]\n",
      " [6.5 2.8 4.6 1.5]\n",
      " [5.7 2.8 4.5 1.3]\n",
      " [6.3 3.3 4.7 1.6]\n",
      " [4.9 2.4 3.3 1. ]\n",
      " [6.6 2.9 4.6 1.3]\n",
      " [5.2 2.7 3.9 1.4]\n",
      " [5.  2.  3.5 1. ]\n",
      " [5.9 3.  4.2 1.5]\n",
      " [6.  2.2 4.  1. ]\n",
      " [6.1 2.9 4.7 1.4]\n",
      " [5.6 2.9 3.6 1.3]\n",
      " [6.7 3.1 4.4 1.4]\n",
      " [5.6 3.  4.5 1.5]\n",
      " [5.8 2.7 4.1 1. ]\n",
      " [6.2 2.2 4.5 1.5]\n",
      " [5.6 2.5 3.9 1.1]\n",
      " [5.9 3.2 4.8 1.8]\n",
      " [6.1 2.8 4.  1.3]\n",
      " [6.3 2.5 4.9 1.5]\n",
      " [6.1 2.8 4.7 1.2]\n",
      " [6.4 2.9 4.3 1.3]\n",
      " [6.6 3.  4.4 1.4]\n",
      " [6.8 2.8 4.8 1.4]\n",
      " [6.7 3.  5.  1.7]\n",
      " [6.  2.9 4.5 1.5]\n",
      " [5.7 2.6 3.5 1. ]\n",
      " [5.5 2.4 3.8 1.1]\n",
      " [5.5 2.4 3.7 1. ]\n",
      " [5.8 2.7 3.9 1.2]\n",
      " [6.  2.7 5.1 1.6]\n",
      " [5.4 3.  4.5 1.5]\n",
      " [6.  3.4 4.5 1.6]\n",
      " [6.7 3.1 4.7 1.5]\n",
      " [6.3 2.3 4.4 1.3]\n",
      " [5.6 3.  4.1 1.3]\n",
      " [5.5 2.5 4.  1.3]\n",
      " [5.5 2.6 4.4 1.2]\n",
      " [6.1 3.  4.6 1.4]\n",
      " [5.8 2.6 4.  1.2]\n",
      " [5.  2.3 3.3 1. ]\n",
      " [5.6 2.7 4.2 1.3]\n",
      " [5.7 3.  4.2 1.2]\n",
      " [5.7 2.9 4.2 1.3]\n",
      " [6.2 2.9 4.3 1.3]\n",
      " [5.1 2.5 3.  1.1]\n",
      " [5.7 2.8 4.1 1.3]\n",
      " [6.3 3.3 6.  2.5]\n",
      " [5.8 2.7 5.1 1.9]\n",
      " [7.1 3.  5.9 2.1]\n",
      " [6.3 2.9 5.6 1.8]\n",
      " [6.5 3.  5.8 2.2]\n",
      " [7.6 3.  6.6 2.1]\n",
      " [4.9 2.5 4.5 1.7]\n",
      " [7.3 2.9 6.3 1.8]\n",
      " [6.7 2.5 5.8 1.8]\n",
      " [7.2 3.6 6.1 2.5]\n",
      " [6.5 3.2 5.1 2. ]\n",
      " [6.4 2.7 5.3 1.9]\n",
      " [6.8 3.  5.5 2.1]\n",
      " [5.7 2.5 5.  2. ]\n",
      " [5.8 2.8 5.1 2.4]\n",
      " [6.4 3.2 5.3 2.3]\n",
      " [6.5 3.  5.5 1.8]\n",
      " [7.7 3.8 6.7 2.2]\n",
      " [7.7 2.6 6.9 2.3]\n",
      " [6.  2.2 5.  1.5]\n",
      " [6.9 3.2 5.7 2.3]\n",
      " [5.6 2.8 4.9 2. ]\n",
      " [7.7 2.8 6.7 2. ]\n",
      " [6.3 2.7 4.9 1.8]\n",
      " [6.7 3.3 5.7 2.1]\n",
      " [7.2 3.2 6.  1.8]\n",
      " [6.2 2.8 4.8 1.8]\n",
      " [6.1 3.  4.9 1.8]\n",
      " [6.4 2.8 5.6 2.1]\n",
      " [7.2 3.  5.8 1.6]\n",
      " [7.4 2.8 6.1 1.9]\n",
      " [7.9 3.8 6.4 2. ]\n",
      " [6.4 2.8 5.6 2.2]\n",
      " [6.3 2.8 5.1 1.5]\n",
      " [6.1 2.6 5.6 1.4]\n",
      " [7.7 3.  6.1 2.3]\n",
      " [6.3 3.4 5.6 2.4]\n",
      " [6.4 3.1 5.5 1.8]\n",
      " [6.  3.  4.8 1.8]\n",
      " [6.9 3.1 5.4 2.1]\n",
      " [6.7 3.1 5.6 2.4]\n",
      " [6.9 3.1 5.1 2.3]\n",
      " [5.8 2.7 5.1 1.9]\n",
      " [6.8 3.2 5.9 2.3]\n",
      " [6.7 3.3 5.7 2.5]\n",
      " [6.7 3.  5.2 2.3]\n",
      " [6.3 2.5 5.  1.9]\n",
      " [6.5 3.  5.2 2. ]\n",
      " [6.2 3.4 5.4 2.3]\n",
      " [5.9 3.  5.1 1.8]]\n"
     ]
    }
   ],
   "source": [
    "print(X)"
   ]
  },
  {
   "cell_type": "markdown",
   "metadata": {},
   "source": [
    "#### Machine Learning"
   ]
  },
  {
   "cell_type": "code",
   "execution_count": 14,
   "metadata": {},
   "outputs": [],
   "source": [
    "# Numerical arrays.\n",
    "import numpy as np\n",
    "\n",
    "# Machine learning - KMeans.\n",
    "import sklearn.cluster as skcl\n",
    "\n",
    "# Plotting.\n",
    "import matplotlib.pyplot as plt"
   ]
  },
  {
   "cell_type": "markdown",
   "metadata": {},
   "source": [
    "Using the K-Means clustering for machine learning. K-Means is a clustering algorithm.\n",
    "\n",
    "The algorithm identifies the cluster center of the datapoints associated with the cluster. Predictions are based on which cluster center is closest to the value.[13]"
   ]
  },
  {
   "cell_type": "code",
   "execution_count": 15,
   "metadata": {},
   "outputs": [
    {
     "data": {
      "text/plain": [
       "array([1, 1, 1, 1, 1, 1, 1, 1, 1, 1, 1, 1, 1, 1, 1, 1, 1, 1, 1, 1, 1, 1,\n",
       "       1, 1, 1, 1, 1, 1, 1, 1, 1, 1, 1, 1, 1, 1, 1, 1, 1, 1, 1, 1, 1, 1,\n",
       "       1, 1, 1, 1, 1, 1, 2, 2, 0, 2, 2, 2, 2, 2, 2, 2, 2, 2, 2, 2, 2, 2,\n",
       "       2, 2, 2, 2, 2, 2, 2, 2, 2, 2, 2, 0, 2, 2, 2, 2, 2, 2, 2, 2, 2, 2,\n",
       "       2, 2, 2, 2, 2, 2, 2, 2, 2, 2, 2, 2, 0, 2, 0, 0, 0, 0, 2, 0, 0, 0,\n",
       "       0, 0, 0, 2, 2, 0, 0, 0, 0, 2, 0, 2, 0, 2, 0, 0, 2, 2, 0, 0, 0, 0,\n",
       "       0, 2, 0, 0, 0, 0, 2, 0, 0, 0, 2, 0, 0, 0, 2, 0, 0, 2])"
      ]
     },
     "execution_count": 15,
     "metadata": {},
     "output_type": "execute_result"
    }
   ],
   "source": [
    "# Perform kmeans fitting.\n",
    "kmeans = skcl.KMeans(n_clusters=3, random_state=0).fit(X)\n",
    "labels = kmeans.labels_\n",
    "labels"
   ]
  },
  {
   "cell_type": "code",
   "execution_count": 16,
   "metadata": {},
   "outputs": [
    {
     "name": "stdout",
     "output_type": "stream",
     "text": [
      "Cluster centers:\n"
     ]
    },
    {
     "data": {
      "text/plain": [
       "array([[6.85      , 3.07368421, 5.74210526, 2.07105263],\n",
       "       [5.006     , 3.428     , 1.462     , 0.246     ],\n",
       "       [5.9016129 , 2.7483871 , 4.39354839, 1.43387097]])"
      ]
     },
     "execution_count": 16,
     "metadata": {},
     "output_type": "execute_result"
    }
   ],
   "source": [
    "cent = kmeans.cluster_centers_\n",
    "print(\"Cluster centers:\")\n",
    "cent"
   ]
  },
  {
   "cell_type": "markdown",
   "metadata": {},
   "source": [
    "### Predictions.\n",
    "\n",
    "Making predictions based on the iris dataset."
   ]
  },
  {
   "cell_type": "code",
   "execution_count": 17,
   "metadata": {},
   "outputs": [
    {
     "name": "stdout",
     "output_type": "stream",
     "text": [
      "[1 1 1 1 1 1 1 1 1 1 1 1 1 1 1 1 1 1 1 1 1 1 1 1 1 1 1 1 1 1 1 1 1 1 1 1 1\n",
      " 1 1 1 1 1 1 1 1 1 1 1 1 1 2 2 0 2 2 2 2 2 2 2 2 2 2 2 2 2 2 2 2 2 2 2 2 2\n",
      " 2 2 2 0 2 2 2 2 2 2 2 2 2 2 2 2 2 2 2 2 2 2 2 2 2 2 0 2 0 0 0 0 2 0 0 0 0\n",
      " 0 0 2 2 0 0 0 0 2 0 2 0 2 0 0 2 2 0 0 0 0 0 2 0 0 0 0 2 0 0 0 2 0 0 0 2 0\n",
      " 0 2]\n"
     ]
    }
   ],
   "source": [
    "# Predict the cluster for two points.\n",
    "predictions = kmeans.predict(X)\n",
    "print(predictions)"
   ]
  },
  {
   "cell_type": "markdown",
   "metadata": {},
   "source": [
    "#### Visualising the data."
   ]
  },
  {
   "cell_type": "code",
   "execution_count": 18,
   "metadata": {},
   "outputs": [
    {
     "data": {
      "text/plain": [
       "[Text(0, 0.5, 'length'), Text(0, 0.5, 'length')]"
      ]
     },
     "execution_count": 18,
     "metadata": {},
     "output_type": "execute_result"
    },
    {
     "data": {
      "image/png": "[encoded data removed]",
      "text/plain": [
       "<Figure size 1008x1008 with 4 Axes>"
      ]
     },
     "metadata": {
      "needs_background": "light"
     },
     "output_type": "display_data"
    }
   ],
   "source": [
    "fig, axes = plt.subplots(2,2, figsize=(14, 14))\n",
    "fig.suptitle('Comparison.', fontsize=18)\n",
    "\n",
    "ax0 = axes[0][0]\n",
    "ax1 = axes[0][1]\n",
    "ax2 = axes[1][0]\n",
    "ax3 = axes[1][1]\n",
    "\n",
    "# == x1\n",
    "# Plot sepal\n",
    "ax0.scatter(X[:, 0], X[:, 1], c=y, cmap=plt.cm.Set1)\n",
    "ax0.plot(cent[:,0], cent[:,1], 'bX')\n",
    "ax0.set_title(\"Actual\")\n",
    "\n",
    "# Plot petal\n",
    "ax1.plot(X[kmeans.labels_ == 0][:,0], X[kmeans.labels_ == 0][:,1], 'o', color=\"gray\")\n",
    "ax1.plot(X[kmeans.labels_ == 1][:,0], X[kmeans.labels_ == 1][:,1], 'o', color=\"red\")\n",
    "ax1.plot(X[kmeans.labels_ == 2][:,0], X[kmeans.labels_ == 2][:,1], 'o', color=\"orange\")\n",
    "ax1.plot(cent[:,0], cent[:,1], 'bX')\n",
    "ax1.set_title(\"Prediction\")\n",
    "\n",
    "# == x2\n",
    "# Plot sepal\n",
    "ax2.scatter(X[:, 2], X[:, 3], c=y, cmap=plt.cm.Set1)\n",
    "ax2.plot(cent[:,2], cent[:,3], 'bX')\n",
    "ax2.set_title(\"Actual\")\n",
    "\n",
    "# Plot petal\n",
    "ax3.plot(X[kmeans.labels_ == 0][:,2], X[kmeans.labels_ == 0][:,3], 'o', color=\"gray\")\n",
    "ax3.plot(X[kmeans.labels_ == 1][:,2], X[kmeans.labels_ == 1][:,3], 'o', color=\"red\")\n",
    "ax3.plot(X[kmeans.labels_ == 2][:,2], X[kmeans.labels_ == 2][:,3], 'o', color=\"orange\")\n",
    "ax3.plot(cent[:,2], cent[:,3], 'bX')\n",
    "ax3.set_title(\"Prediction\")\n",
    "\n",
    "ax0.title.set_text('sepal-actual')\n",
    "ax1.title.set_text('sepal-prediction')\n",
    "ax2.title.set_text('petal-actual')\n",
    "ax3.title.set_text('petalprediction')\n",
    "\n",
    "plt.setp(axes[-1, :], xlabel='width')\n",
    "plt.setp(axes[:, 0], ylabel='length')"
   ]
  },
  {
   "cell_type": "markdown",
   "metadata": {},
   "source": [
    "#### Accuracy\n",
    "\n",
    "The Rand Index computes a similarity measure between two clusterings by considering all pairs of samples and counting pairs that are assigned in the same or different clusters in the predicted and true clusterings.[14]"
   ]
  },
  {
   "cell_type": "code",
   "execution_count": 19,
   "metadata": {},
   "outputs": [
    {
     "name": "stdout",
     "output_type": "stream",
     "text": [
      "Adjusted rand score: 73.02%\n"
     ]
    }
   ],
   "source": [
    "from sklearn.metrics.cluster import adjusted_rand_score\n",
    "\n",
    "score = adjusted_rand_score(y, predictions)\n",
    "\n",
    "print('Adjusted rand score: {0:.2f}%'.format(score*100))"
   ]
  },
  {
   "cell_type": "markdown",
   "metadata": {},
   "source": [
    "The k_means algorithm will not accuratly predict the flower, it finds patterns and tries best to fit the prediction into a cluster. This has limitations, as seen by the roughly 75% adjusted rand score.\n",
    "\n",
    "#### Additional thoughts\n",
    "I wonder how adding weighted values to the algorithm would effect the accuracy. Each colour has defining features.\n",
    "\n",
    "Red has long, thin sepal with short, thin petals. The petal features present strong clustering as there are no non-red values near this cluster. When atempting to predict the values, the petal values could be of more value than the sepal values. \n",
    "\n",
    "While red seems to have been predicted correctly, orange and gray have a few wrongly predicted values and it seems to be because the sepal and petal values are calculated at an equal value, where as in both cases the petal is clustered (showing a pattern, for gray, this is long and wide and for orange it is of medium length and width.), while the sepal, in both cases is dispersed. "
   ]
  },
  {
   "cell_type": "markdown",
   "metadata": {},
   "source": [
    "References:  \n",
    "[1] Finding square roots of of numbers that aren't perfect squares without a calculator:\n",
    "http://www.math.com/school/subject1/lessons/S1U1L9DP.html  \n",
    "[2] Newton's method https://en.wikipedia.org/wiki/Newton's_method  \n",
    "[3] An implementation of Newton's method:  \n",
    "https://www.geeksforgeeks.org/program-for-newton-raphson-method/  \n",
    "[4] Additional information on how NEwton's method works:  \n",
    "http://www.math.pitt.edu/~sussmanm/2070/lab_04/index.html \n",
    "[5] Information on how chi2_contingency works:\n",
    "https://docs.scipy.org/doc/scipy/reference/generated/scipy.stats.chi2_contingency.html  \n",
    "[6] Chi2_contingency implementation:\n",
    "https://stackoverflow.com/questions/64669448/understanding-scipy-stats-chisquare  \n",
    "[7] Chi-squared test:\n",
    "https://en.wikipedia.org/w/index.php?title=Chi-squared_test&oldid=983024096  \n",
    "[8] p-value:\n",
    "https://en.wikipedia.org/wiki/P-value  \n",
    "[9] Calculating p-value:  https://www.gigacalculator.com/calculators/chi-square-to-p-value-calculator.php  \n",
    "[10] Bessel's correction: https://www.statisticshowto.com/bessels-correction/   \n",
    "[11] Standard deviation calculation: https://exceljet.net/formula/standard-deviation-calculation  \n",
    "[12] Iris dataset: \n",
    "https://scikit-learn.org/stable/auto_examples/datasets/plot_iris_dataset.html  \n",
    "[13] What is K-means Clustering in Machine Learning?: https://www.analyticssteps.com/blogs/what-k-means-clustering-machine-learning  \n",
    "[14] sklearn.metrics.adjusted_rand_score: https://scikit-learn.org/stable/modules/generated/sklearn.metrics.adjusted_rand_score.html  "
   ]
  }
 ],
 "metadata": {
  "kernelspec": {
   "display_name": "Python 3",
   "language": "python",
   "name": "python3"
  },
  "language_info": {
   "codemirror_mode": {
    "name": "ipython",
    "version": 3
   },
   "file_extension": ".py",
   "mimetype": "text/x-python",
   "name": "python",
   "nbconvert_exporter": "python",
   "pygments_lexer": "ipython3",
   "version": "3.8.3"
  }
 },
 "nbformat": 4,
 "nbformat_minor": 4
}
