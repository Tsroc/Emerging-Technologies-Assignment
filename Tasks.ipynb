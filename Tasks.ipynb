{
 "cells": [
  {
   "cell_type": "markdown",
   "metadata": {},
   "source": [
    "# Tasks\n",
    "\n",
    "Author: Eoin Wilkie."
   ]
  },
  {
   "cell_type": "markdown",
   "metadata": {},
   "source": [
    "## Task 1: Calculate a square root\n",
    "Write a Python function called sqrt2 that calculates and prints to the screen the square root of 2 to 100 decimal places. Your code should not depend on any module from the standard library or otherwise. You should research the task first and include references and a description of your algorithm."
   ]
  },
  {
   "cell_type": "code",
   "execution_count": 1,
   "metadata": {},
   "outputs": [],
   "source": [
    "def sqrt(x):\n",
    "    \"\"\"\n",
    "    A function to calculate the square root of a number x.\n",
    "    This is Ian's example.\n",
    "    \"\"\"\n",
    "    # initial guess for the aquare root z.\n",
    "    z = x / 2\n",
    "    # Loop until we're happy with the accuracy.\n",
    "    while abs(x - (z*z)) > 0.0000000000001:\n",
    "        # Calculate a better guess for the square root.\n",
    "        z -= (z*z - x) / (z * z)\n",
    "    # Return the (approximate) square root of x.\n",
    "    return z\n",
    "    "
   ]
  },
  {
   "cell_type": "markdown",
   "metadata": {},
   "source": [
    "##### Explaination of code.  \n",
    "\n",
    "My implementation is based on Newton's method. Each iteration produces an approximation and successive results become more precise.  \n",
    "The method takes a number input and determines the root by dividing the number in half.  \n",
    "Afterwards the method enters a loop which repeats 7 times, the assigned number of iterations.  \n",
    "The root value is re-assigned to *root -= func(root, number) / derivFunc(root)*.  \n",
    "Below, the value of root is shown after each iteration. The final iteration is the result.\n",
    "\n",
    "- Iteration 1: 1.5\n",
    "- Iteration 2: 1.4166666666666667\n",
    "- Iteration 3: 1.4142156862745099\n",
    "- Iteration 4: 1.4142135623746899\n",
    "- Iteration 5: 1.4142135623730951\n",
    "- Iteration 6: 1.414213562373095\n",
    "- Iteration 7: 1.4142135623730951"
   ]
  },
  {
   "cell_type": "code",
   "execution_count": 2,
   "metadata": {},
   "outputs": [],
   "source": [
    "def func(root, number):\n",
    "    return root * root - number"
   ]
  },
  {
   "cell_type": "code",
   "execution_count": 3,
   "metadata": {},
   "outputs": [],
   "source": [
    "def derivFunc(root):\n",
    "    return 2 * root"
   ]
  },
  {
   "cell_type": "code",
   "execution_count": 4,
   "metadata": {
    "scrolled": false
   },
   "outputs": [],
   "source": [
    "def sqrt2(number):\n",
    "    \"\"\"\n",
    "    My code is based on Newton's method. \n",
    "    \"\"\"\n",
    "    \n",
    "    iterations = 7\n",
    "    precision = 0.00000001\n",
    "    root = number / 2\n",
    "    \n",
    "    for i in range(iterations):\n",
    "        # Result is not within the desired precision.\n",
    "        if abs(root) <= precision:\n",
    "            return root\n",
    "\n",
    "        # Newton's computation, and update value to repeat process.\n",
    "        root -= func(root, number) / derivFunc(root)\n",
    "        \n",
    "        # Testing purposes. \n",
    "        print(f\"Iteration {i+1}: {root}\")\n",
    "   \n",
    "    return root"
   ]
  },
  {
   "cell_type": "markdown",
   "metadata": {},
   "source": [
    "#### Testing sqrt"
   ]
  },
  {
   "cell_type": "code",
   "execution_count": 5,
   "metadata": {},
   "outputs": [
    {
     "name": "stdout",
     "output_type": "stream",
     "text": [
      "This code was provided in class, it will be used to compare results.\n",
      "sqrt(2): 1.4142135623730798\n",
      "\n",
      "My implementation:\n",
      "start\n",
      "Iteration 1: 1.5\n",
      "Iteration 2: 1.4166666666666667\n",
      "Iteration 3: 1.4142156862745099\n",
      "Iteration 4: 1.4142135623746899\n",
      "Iteration 5: 1.4142135623730951\n",
      "Iteration 6: 1.414213562373095\n",
      "Iteration 7: 1.4142135623730951\n",
      "1.4142135623730951\n",
      "end\n"
     ]
    }
   ],
   "source": [
    "print(\"This code was provided in class, it will be used to compare results.\")\n",
    "print(f\"sqrt(2): {sqrt(2)}\")\n",
    "print()\n",
    "print(\"My implementation:\")\n",
    "print(\"start\")\n",
    "print(sqrt2(2))\n",
    "print(\"end\")"
   ]
  },
  {
   "cell_type": "code",
   "execution_count": null,
   "metadata": {},
   "outputs": [],
   "source": []
  },
  {
   "cell_type": "markdown",
   "metadata": {},
   "source": [
    "## Task2: Chi-squared test\n",
    "\n",
    "The Chi-squared test for independence is a statistical hypothesis test like a t-test. It is used to analyse whether two categorical variables are independent. The Wikipedia article gives the table and states the Chi-squared value based on it is approximately 24.6. Use scipy.stats to verify this value and calculate the associated p value. You should include a short note with references justifying your analysis in a markdown cell.\n"
   ]
  },
  {
   "cell_type": "code",
   "execution_count": 6,
   "metadata": {},
   "outputs": [],
   "source": [
    "'''\n",
    "Creating the data.\n",
    "'''\n",
    "\n",
    "import pandas as pd\n",
    "\n",
    "data = {'A': [90,30,30],\n",
    "        'B': [60,50,40],\n",
    "        'C': [104,51,45],\n",
    "        'D': [95,20,35]\n",
    "       }\n",
    "pf = pd.DataFrame(data, columns=['A', 'B', 'C', 'D'], index=['White collar', 'Blue collar', 'No collar'])"
   ]
  },
  {
   "cell_type": "markdown",
   "metadata": {},
   "source": [
    "Data output."
   ]
  },
  {
   "cell_type": "code",
   "execution_count": 7,
   "metadata": {},
   "outputs": [
    {
     "name": "stdout",
     "output_type": "stream",
     "text": [
      "                A    B    C    D  total\n",
      "White collar   90   60  104   95    349\n",
      "Blue collar    30   50   51   20    151\n",
      "No collar      30   40   45   35    150\n",
      "Total         150  150  200  150    650\n"
     ]
    }
   ],
   "source": [
    "pf2 = pf.copy()\n",
    "\n",
    "#Adding totals\n",
    "\n",
    "pf2.loc['Total']= pf2.sum(numeric_only=True, axis=0)\n",
    "pf2.loc[:,'total'] = pf2.sum(numeric_only=True, axis=1)\n",
    "\n",
    "print(pf2)"
   ]
  },
  {
   "cell_type": "markdown",
   "metadata": {},
   "source": [
    "#### Explaination of code.\n",
    "\n",
    "chi2_contingency is imported from the scipy.stats module, it performs a chi-squared test on a data set.\n",
    "The following variables are returned.\n",
    "\n",
    "- **chi2:** This is the Chi-squared value which is expected to be approximately 24.6\n",
    "- **p:** P-value is the probability of obtaining test results at least as extreme as the results actually observed. Our confidence in the result.\n",
    "- **dof:** Degrees of freedom, which is the freedom for the results to vary.\n",
    "- **expected:** The expected frequencies, based on the marginal sums of the table.\n",
    "\n",
    "Expected results = each cell is assigned a value based on column total*(row_total/total).  \n",
    "Chi2 = For each cell you get the sum of (pow2(observed-expected)/ expected) for each cell.  \n",
    "DoF = (num_rows - 1)*(num_Col).  \n",
    "P-value calculator can be found here [9].\n"
   ]
  },
  {
   "cell_type": "code",
   "execution_count": 8,
   "metadata": {},
   "outputs": [
    {
     "name": "stdout",
     "output_type": "stream",
     "text": [
      "chi2 statistic:     24.571\n",
      "p-value:            0.00040984\n",
      "degrees of freedom: 6\n",
      "expected frequencies:\n",
      "[[ 80.53846154  80.53846154 107.38461538  80.53846154]\n",
      " [ 34.84615385  34.84615385  46.46153846  34.84615385]\n",
      " [ 34.61538462  34.61538462  46.15384615  34.61538462]]\n"
     ]
    }
   ],
   "source": [
    "'''\n",
    "Using scipy.stats.chi2_contingency to confirm the results.\n",
    "'''\n",
    "\n",
    "from scipy.stats import chi2_contingency\n",
    "\n",
    "chi2, p, dof, expected = chi2_contingency(pf)\n",
    "\n",
    "print(f\"chi2 statistic:     {chi2:.5g}\")\n",
    "print(f\"p-value:            {p:.5g}\")\n",
    "print(f\"degrees of freedom: {dof}\")\n",
    "print(\"expected frequencies:\")\n",
    "print(expected)"
   ]
  },
  {
   "cell_type": "markdown",
   "metadata": {},
   "source": [
    "#### Testing chi-squared"
   ]
  },
  {
   "cell_type": "code",
   "execution_count": 9,
   "metadata": {},
   "outputs": [
    {
     "name": "stdout",
     "output_type": "stream",
     "text": [
      "Expected Chi-squared: 24.6\n",
      "Actual Chi-squared: 24.6\n",
      "Match found: True\n"
     ]
    }
   ],
   "source": [
    "'''\n",
    "Confirm the results by rounding to 1 decimal.\n",
    "I am unsure of a better way to confirm the closeness of the expected and actual results.\n",
    "'''\n",
    "import math\n",
    "\n",
    "expectedChi2=24.6\n",
    "\n",
    "# Results\n",
    "print(f\"Expected Chi-squared: {expectedChi2}\\nActual Chi-squared: {round(chi2, 1)}\")\n",
    "print(f\"Match found: {math.isclose(expectedChi2, round(chi2, 1))}\")"
   ]
  },
  {
   "cell_type": "code",
   "execution_count": null,
   "metadata": {},
   "outputs": [],
   "source": []
  },
  {
   "cell_type": "markdown",
   "metadata": {},
   "source": [
    "## Task 3: Research STDEV.P and STDEV.S\n",
    "\n",
    "The standard deviation of an array of numbers x is calculated using numpy as np.sqrt(np.sum((x - np.mean(x)) ** 2)/len(x)).\n",
    "\n",
    "However, Microsoft Excel has two different versions of the standard deviation calculation, STDEV.P and STDEV.S . The STDEV.P function performs the above calculation but in the STDEV.S calculation the division is by len(x)-1 rather\n",
    "than len(x).\n",
    "\n",
    "Research these Excel functions, writing a note in a Markdown cell about the difference between them.\n",
    "\n",
    "Then use numpy to perform a simulation demonstrating that the STDEV.S calculation is a better estimate for the standard deviation of a population when performed on a sample. Note that part of this task is to figure out the terminology in the previous sentence."
   ]
  },
  {
   "cell_type": "markdown",
   "metadata": {},
   "source": [
    "### Difference between population and sample\n",
    "\n",
    "##### STDEV.P\n",
    "Standard Deviation: Population.\n",
    "- Data contains all members of the population, \n",
    "- Used if the data represents the entire population.\n",
    "- Results are accurate because the dataset is complete.\n",
    "\n",
    "\n",
    "##### STDEV.S\n",
    "Standard Deviation: Sample.\n",
    "- Data does not contain all members of the population.\n",
    "- Used if the data is just a sample, and you want to generalise to the entire population.\n",
    "- Results are not accurate because the dataset is not complete.\n",
    "\n",
    "In excel, STDEV.S uses Bessel's correction to provide a better estimation for a sample.\n",
    "\n",
    "##### Bessel's correction\n",
    "Bessel's correction refers to the \"n-1\" found in STDEV.S. The use of STDEV.P assumes a whole population of data is available, results will not be accurate when working with a sample.\n",
    "Bessel's correction adjusts the formula to have a deflated sum, more representative for a sample.[10]"
   ]
  },
  {
   "cell_type": "markdown",
   "metadata": {},
   "source": [
    "#### Example"
   ]
  },
  {
   "cell_type": "code",
   "execution_count": 11,
   "metadata": {},
   "outputs": [
    {
     "name": "stdout",
     "output_type": "stream",
     "text": [
      "Size of population:  5\n",
      "\tSTDEV:P:\t\t258.281\n",
      "Size of sample:  1\n",
      "\tSTDEV.S of sample:\tnan\n",
      "\tSTDEV.S of whole:\t288.767\n",
      "\n",
      "Size of population:  10\n",
      "\tSTDEV:P:\t\t252.118\n",
      "Size of sample:  2\n",
      "\tSTDEV.S of sample:\t257.387\n",
      "\tSTDEV.S of whole:\t265.755\n",
      "\n",
      "Size of population:  100\n",
      "\tSTDEV:P:\t\t284.018\n",
      "Size of sample:  25\n",
      "\tSTDEV.S of sample:\t232.937\n",
      "\tSTDEV.S of whole:\t285.448\n",
      "\n",
      "Size of population:  500\n",
      "\tSTDEV:P:\t\t286.834\n",
      "Size of sample:  125\n",
      "\tSTDEV.S of sample:\t249.286\n",
      "\tSTDEV.S of whole:\t287.122\n",
      "\n",
      "Size of population:  1000\n",
      "\tSTDEV:P:\t\t291.717\n",
      "Size of sample:  250\n",
      "\tSTDEV.S of sample:\t301.527\n",
      "\tSTDEV.S of whole:\t291.863\n",
      "\n",
      "Size of population:  5000\n",
      "\tSTDEV:P:\t\t286.323\n",
      "Size of sample:  1250\n",
      "\tSTDEV.S of sample:\t282.676\n",
      "\tSTDEV.S of whole:\t286.351\n",
      "\n",
      "Size of population:  10000\n",
      "\tSTDEV:P:\t\t287.923\n",
      "Size of sample:  2500\n",
      "\tSTDEV.S of sample:\t289.984\n",
      "\tSTDEV.S of whole:\t287.938\n",
      "\n",
      "Size of population:  50000\n",
      "\tSTDEV:P:\t\t288.334\n",
      "Size of sample:  12500\n",
      "\tSTDEV.S of sample:\t289.537\n",
      "\tSTDEV.S of whole:\t288.337\n",
      "\n"
     ]
    }
   ],
   "source": [
    "import numpy as np\n",
    "import random\n",
    "\n",
    "\n",
    "size = [5,10,100,500,1000,5000,10000,50000]\n",
    "\n",
    "# Creates sets with the size given in above array.\n",
    "# Prints the STDEV.P and STD.S.\n",
    "for i in size:\n",
    "    nums = np.random.randint(1,1000,(i))\n",
    "    sample = np.random.choice(nums, int(i/4))\n",
    "    \n",
    "    print(\"Size of population: \", len(nums))\n",
    "    print(\"\\tSTDEV:P:\\t\\t%.3f\" % np.std(nums))\n",
    "    print(\"Size of sample: \", len(sample))\n",
    "    print(\"\\tSTDEV.S of sample:\\t%.3f\" % np.std(sample, ddof=1))\n",
    "    print(\"\\tSTDEV.S of whole:\\t%.3f\" % np.std(nums, ddof=1))\n",
    "    print()\n"
   ]
  },
  {
   "cell_type": "markdown",
   "metadata": {},
   "source": [
    "#### Conclusion"
   ]
  },
  {
   "cell_type": "markdown",
   "metadata": {},
   "source": [
    "The difference between STDEV.P and STDEV.S decreases as the size of the array increases.\n",
    "STDEV.S no longer seems to be useful as the sample size increases.[11]"
   ]
  },
  {
   "cell_type": "code",
   "execution_count": null,
   "metadata": {},
   "outputs": [],
   "source": []
  },
  {
   "cell_type": "code",
   "execution_count": null,
   "metadata": {},
   "outputs": [],
   "source": []
  },
  {
   "cell_type": "code",
   "execution_count": null,
   "metadata": {},
   "outputs": [],
   "source": []
  },
  {
   "cell_type": "code",
   "execution_count": null,
   "metadata": {},
   "outputs": [],
   "source": []
  },
  {
   "cell_type": "code",
   "execution_count": null,
   "metadata": {},
   "outputs": [],
   "source": []
  },
  {
   "cell_type": "code",
   "execution_count": null,
   "metadata": {},
   "outputs": [],
   "source": []
  },
  {
   "cell_type": "code",
   "execution_count": null,
   "metadata": {},
   "outputs": [],
   "source": []
  },
  {
   "cell_type": "code",
   "execution_count": null,
   "metadata": {},
   "outputs": [],
   "source": []
  },
  {
   "cell_type": "code",
   "execution_count": null,
   "metadata": {},
   "outputs": [],
   "source": []
  },
  {
   "cell_type": "code",
   "execution_count": null,
   "metadata": {},
   "outputs": [],
   "source": []
  },
  {
   "cell_type": "markdown",
   "metadata": {},
   "source": [
    "References:  \n",
    "[1] Finding square roots of of numbers that aren't perfect squares without a calculator:\n",
    "http://www.math.com/school/subject1/lessons/S1U1L9DP.html  \n",
    "[2] Newton's method https://en.wikipedia.org/wiki/Newton's_method  \n",
    "[3] An implementation of Newton's method:  \n",
    "https://www.geeksforgeeks.org/program-for-newton-raphson-method/  \n",
    "[4] Additional information on how NEwton's method works:  \n",
    "http://www.math.pitt.edu/~sussmanm/2070/lab_04/index.html \n",
    "[5] Information on how chi2_contingency works:\n",
    "https://docs.scipy.org/doc/scipy/reference/generated/scipy.stats.chi2_contingency.html  \n",
    "[6] Chi2_contingency implementation:\n",
    "https://stackoverflow.com/questions/64669448/understanding-scipy-stats-chisquare  \n",
    "[7] Chi-squared test:\n",
    "https://en.wikipedia.org/w/index.php?title=Chi-squared_test&oldid=983024096  \n",
    "[8] p-value:\n",
    "https://en.wikipedia.org/wiki/P-value  \n",
    "[9] Calculating p-value:  https://www.gigacalculator.com/calculators/chi-square-to-p-value-calculator.php  \n",
    "[10] Bessel's correction: https://www.statisticshowto.com/bessels-correction/  \n",
    "[11] Standard deviation calculation: https://exceljet.net/formula/standard-deviation-calculation"
   ]
  },
  {
   "cell_type": "code",
   "execution_count": null,
   "metadata": {},
   "outputs": [],
   "source": []
  },
  {
   "cell_type": "code",
   "execution_count": null,
   "metadata": {},
   "outputs": [],
   "source": []
  }
 ],
 "metadata": {
  "kernelspec": {
   "display_name": "Python 3",
   "language": "python",
   "name": "python3"
  },
  "language_info": {
   "codemirror_mode": {
    "name": "ipython",
    "version": 3
   },
   "file_extension": ".py",
   "mimetype": "text/x-python",
   "name": "python",
   "nbconvert_exporter": "python",
   "pygments_lexer": "ipython3",
   "version": "3.8.3"
  }
 },
 "nbformat": 4,
 "nbformat_minor": 4
}
